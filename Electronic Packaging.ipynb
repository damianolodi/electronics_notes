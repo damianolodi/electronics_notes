{
 "cells": [
  {
   "cell_type": "markdown",
   "metadata": {},
   "source": [
    "# Electronic Packaging\n",
    "In the commonly used electronic technology, the semiconductor chips are individually mounted on a package, and wire-bonded to its I/O pins. This package is then mounted on a Printed Circuit Board (PCB).\n",
    "However, not only does *packaging of single chip ICs cost more than the cost of the chips they contain*, packaging of a chip take relatively large amount of physical space. Using a conventional single chip package and circuit board interconnect strategy, **the package and interconnects took up over 50% of the timing budget as well.**\n",
    "* **Through hole PWB** --> the leads on the components are inserted into pre-drilled holes on printed circuit boards on one side and then soldered to pads on opposite side of PCB\n",
    "* **Surface Mount Technology (SMT)** --> electronic circuits are assembled by mounting the active/passive components directly onto the surfaces of printed circuit boards. Benefits: suitable for automated machines, smaller physical size, less parasitic and low cost\n",
    "* **Hybrid Technology** --> see [1]\n",
    "* **Multichip Module (MCM)**"
   ]
  },
  {
   "cell_type": "markdown",
   "metadata": {},
   "source": [
    "---\n",
    "## Chip-on-Board (COB)\n",
    "An unpackaged semiconductor die is attached directly onto the surface of a PCB substrate along with signal conditioning or support circuitry. Electrical connections are formed when the IC is attached to the corresponding substrate interconnects with wire bonding. A junction coating material(epoxy resin or a silicone coating) is then applied on top of the die to encapsulate and protective die and wire bonds.\n",
    "\n",
    "<img src=\"./assets/electronic-packaging/cob.png\">\n",
    "\n",
    "1. **Primary advantage** --> it reduces the weight and mass of the circuit.\n",
    "- It reduces the thermal resistance and the number of interconnects between an active die and the substrate, which can potentially improve the overall circuit speed and the reliability."
   ]
  },
  {
   "cell_type": "markdown",
   "metadata": {},
   "source": [
    "### Die Bonding\n",
    "For bonding the die on a substrate, adhesives like silver epoxy pastes are used.The bonding process requires curing (after application of paste) and degassing at high temperature (150°C).\n",
    "For dissipation of heat, chips are bonded to metallic plates (which are finally connected to heat sinks/casing) integrated on board."
   ]
  },
  {
   "cell_type": "markdown",
   "metadata": {},
   "source": [
    "### Interconnections\n",
    "* **Flip Chip** --> see [1]\n",
    "* **Tape Automated Bonding** --> see [1]\n",
    "* **Wirebonding** --> used for interconnections between the bond pads on a chip and bond pads on a substrate. Wire bonding is best described as single point unit operation. Each bond is individually produced. Flexibility, Infrastructure and Cost are the major advantages of wirebonding."
   ]
  },
  {
   "cell_type": "markdown",
   "metadata": {},
   "source": [
    "---\n",
    "## References\n",
    "1. [COB ICs](https://www.engineersgarage.com/articles/cob-ics) -- Engineers Garage\n",
    "2. [Chip on Board](https://en.wikipedia.org/wiki/Chip_on_board) -- Wikipedia\n",
    "3. [Wire Bonding](https://en.wikipedia.org/wiki/Wire_bonding) -- Wikipedia\n",
    "4. [List of integrated circuit packaging types](https://en.wikipedia.org/wiki/List_of_integrated_circuit_packaging_types) -- Wikipedia"
   ]
  },
  {
   "cell_type": "code",
   "execution_count": null,
   "metadata": {},
   "outputs": [],
   "source": []
  }
 ],
 "metadata": {
  "kernelspec": {
   "display_name": "Python 3",
   "language": "python",
   "name": "python3"
  },
  "language_info": {
   "codemirror_mode": {
    "name": "ipython",
    "version": 3
   },
   "file_extension": ".py",
   "mimetype": "text/x-python",
   "name": "python",
   "nbconvert_exporter": "python",
   "pygments_lexer": "ipython3",
   "version": "3.6.8"
  },
  "toc-autonumbering": true,
  "toc-showmarkdowntxt": true
 },
 "nbformat": 4,
 "nbformat_minor": 2
}
