{
 "cells": [
  {
   "cell_type": "markdown",
   "metadata": {},
   "source": [
    "# Microcontrollers"
   ]
  },
  {
   "cell_type": "markdown",
   "metadata": {},
   "source": [
    "## General Informations\n",
    "* **MCU** --> *Microcontroller Unit*, used interchangeably. It contains by **Digital Processor + Memory + Other Components**. Additional components are used to communicate with the outside world.\n",
    "* **MPU** --> *Microprocessor Unit*, different from MCU. It is made of **Processor + memory (optional)**.\n",
    "\n",
    "<img src=\"./assets/mcu/mcu-components.png\">\n",
    "\n",
    "* **DSP** (Digital Signal Processor) --> microprocessor optimised fro demanding computational tasks (e.g. digital filtering, real-time signal analysis, data compression)"
   ]
  },
  {
   "cell_type": "markdown",
   "metadata": {},
   "source": [
    "---\n",
    "## Elements of a MCU\n",
    "1. Central Processing Unit (CPU)\n",
    "2. Memory\n",
    "    * Flash -> non-volatile memory\n",
    "    * RAM -> volatile memory\n",
    "3. Peripherals\n",
    "    * Data converters: DAC, ADC, reference voltage generators\n",
    "    * Clock generation\n",
    "    * Analog signal processing: OP-AMP, comparator\n",
    "    * I/O\n",
    "    * Serial communication\n",
    "4. Support circuitry (circuit not used to control/monitor/communicate with external components)\n",
    "    * Debug circuitry\n",
    "    * Interrupts\n",
    "    * Clock-generation module (considered a peripherals if used to control devices outside the chip)\n",
    "    * Power-supply circuitry"
   ]
  },
  {
   "cell_type": "markdown",
   "metadata": {},
   "source": [
    "---\n",
    "## Choosing a Microcontroller\n",
    "1. Stick to known brands\n",
    "    * Silicon Labs\n",
    "    * ST Microelectronics\n",
    "    * Texas Instruments\n",
    "    * Microchip\n",
    "2. Features\n",
    "    * ADC widely common for low-medium quality\n",
    "    * DAC are not always included\n",
    "    * Clock frequency\n",
    "    * Capacitive Touch Sense (if required for touch applications)\n",
    "3. Cost and package size\n",
    "4. Evaluation HW (presence of a dev. board)"
   ]
  },
  {
   "cell_type": "markdown",
   "metadata": {},
   "source": [
    "---\n",
    "## ARM Architecture\n",
    "Due to the fact that Arm licenses out its architecture, there are both Arm designed microarchitectures and third-party microarchitectures. Arm releases an architecture, and other companies can implement that in their own design. [6]\n",
    "\n",
    "Arm cores are **organised into families**. *Families encapsulate specific architectures*, which use specific instruction sets. The original Arm family was Arm1, which used the Armv1 architecture.\n",
    "\n",
    "With the announcement of Armv8, the first 64-bit Arm architecture, a clarification of the ISAs (*Instruction Set Architectures*) became appropriate. The original 32-bit Arm ISA was re-branded A32, while the new 64-bit ISA was dubbed A64. Thumb became T32.\n",
    "- The Arm architectures are easy to spot because they always have a `v` in their name.\n",
    "- The modern Arm families are the Cortex series and include three architecture profiles: **Cortex-A**, **Cortex-R**, and **Cortex-M**. Any cores with this designation are microarchitectures designed in-house by Arm.\n",
    "    1. **Cortex-A** --> primarily considered application processors with OS and third-party application support (application-intensive smartphones, raspberry, servers).\n",
    "    2. **Cortex-R** --> optimised for high-performance real-time applications (safety-critical applications, medical devices, industrial control systems, and safety instrumented systems).\n",
    "    3. **Cortex-M** --> scaled-down, low-cost 32-bit Arm cores (geared toward microcontroller, ASIC, FPGA, and SoC applications). Direct competition with the 8-bit MCU market."
   ]
  },
  {
   "cell_type": "markdown",
   "metadata": {},
   "source": [
    "---\n",
    "## References\n",
    "1. [What is a Microcontroller?](https://www.allaboutcircuits.com/technical-articles/what-is-a-microcontroller-introduction-component-characteristics-component/) -- All About Circuits\n",
    "2. [How to Choose the Right Microcontroller](https://www.allaboutcircuits.com/technical-articles/how-to-choose-the-right-microcontroller-for-your-application/) -- All About Circuits\n",
    "3. [How to read a Microcontroller Datasheet I](https://www.allaboutcircuits.com/technical-articles/how-to-read-a-microcontroller-datasheet-introduction-and-first-steps2/) -- All About Circuits\n",
    "4. [How to read a Microcontroller Datasheet II](https://www.allaboutcircuits.com/technical-articles/how-to-read-a-microcontroller-datasheet-exploring-the-hardware/) -- All About Circuits\n",
    "5. [How to Choose a Microcontroller for Digital Signal Processing](https://www.allaboutcircuits.com/technical-articles/how-to-choose-a-microcontroller-for-digital-signal-processing-applications/) -- All About Circuits\n",
    "6. [The ARM Architecture Explained](https://www.allaboutcircuits.com/technical-articles/arm-architecture-explained/) -- All About Circuits "
   ]
  },
  {
   "cell_type": "code",
   "execution_count": null,
   "metadata": {},
   "outputs": [],
   "source": []
  }
 ],
 "metadata": {
  "kernelspec": {
   "display_name": "Python 3",
   "language": "python",
   "name": "python3"
  },
  "language_info": {
   "codemirror_mode": {
    "name": "ipython",
    "version": 3
   },
   "file_extension": ".py",
   "mimetype": "text/x-python",
   "name": "python",
   "nbconvert_exporter": "python",
   "pygments_lexer": "ipython3",
   "version": "3.6.8"
  }
 },
 "nbformat": 4,
 "nbformat_minor": 2
}
