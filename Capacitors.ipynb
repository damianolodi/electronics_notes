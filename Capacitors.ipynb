{
 "cells": [
  {
   "cell_type": "markdown",
   "metadata": {},
   "source": [
    "# Capacitors"
   ]
  },
  {
   "cell_type": "markdown",
   "metadata": {},
   "source": [
    "---\n",
    "## General Concepts\n",
    "<img src=\"./assets/capacitors/circuit-symbols.png\"/>\n",
    "*Circuit symbols* (normal and electrolytic)\n",
    "\n",
    "* **Capacitance** --> maximum amount of charge it can store\n",
    "* Measured in **Farad** $[F] = [C/V]$ --> $C=Q/V$\n",
    "$$\n",
    "C= \\epsilon_0 \\epsilon_r (n-1) \\frac{A}{d}\n",
    "$$\n",
    "\n",
    "$n$ is the number of parallel plates, $A$ is the area of each plate and $d$ is the distance of the plates [2]\n",
    "* $A$ = surface area of the metal plates, $d$ = distance between plates, $\\epsilon_r$ = relative permittivity of the dielectric material\n",
    "* **Parallel** --> $C_{TOT} = C_1 + C_2 + …$\n",
    "* **Series** --> $1/C_{TOT} = 1/C_1 + 1/C_2 + …$\n",
    "* **Energy** --> inside a capacitor $= (1/2) * C * V^2$"
   ]
  },
  {
   "cell_type": "markdown",
   "metadata": {},
   "source": [
    "---\n",
    "## Important Characteristics\n",
    "1. **Size** (both physical and capacitance)\n",
    "- **Voltage rating (WV, Working Voltage)** --> maximum voltage that can be dropped across it\n",
    "    - choose it to be *at least* 50% more than the max voltage that will be effectively applied to the capacitor\n",
    "- **Leakage current** --> current loss passing through the dielectric material\n",
    "- **Equivalent Series Resistance (ESR)** --> series resistance given by the fact that terminals aren’t 100% conductive. It defines the energy losses of the “equivalent” series resistance of a capacitor\n",
    "- **Tolerance**\n",
    "- **Working Temperature**\n",
    "- **Time Constant** --> time taken for the capacitor to discharge down to 37% of its supply voltage"
   ]
  },
  {
   "cell_type": "markdown",
   "metadata": {},
   "source": [
    "---\n",
    "## Types of Capacitors\n",
    "1. **Ceramic capacitors**\n",
    "    - small dimensions (both *SMD* and *through-hole*)\n",
    "    - small capacitance\n",
    "    - near-ideal (low ESR and low leakage current)\n",
    "    - good for high-frequency coupling/decoupling\n",
    "- **Electrolytic**\n",
    "    - polarised (anode must be higher than cathode[-], always)\n",
    "    - leakage current\n",
    "- **Supercapacitors**\n",
    "    - used to store and release energy (quickly)\n",
    "- **Film capacitors**"
   ]
  },
  {
   "cell_type": "markdown",
   "metadata": {},
   "source": [
    "---\n",
    "## Colour and Number Codes\n",
    "See this [tutorial](https://www.electronics-tutorials.ws/capacitor/cap_5.html) on Electronics Tutorial."
   ]
  },
  {
   "cell_type": "markdown",
   "metadata": {},
   "source": [
    "---\n",
    "## Applications"
   ]
  },
  {
   "cell_type": "markdown",
   "metadata": {},
   "source": [
    "### Decoupling Capacitors\n",
    "Placed between the power source and ground, used to filter out frequency noise in the power supply. [1]\n",
    "\n",
    "1. Based on the principle that frequency components creates a current thorough the capacitors (so they can pass through and are connected to ground), while DC does not create a current through the capacitors and it goes to VDD\n",
    "* **Always locate them as close as possible to the IC to maximise efficiency** (why?)\n",
    "* **Good engineering practice**: always add at least one decoupling capacitor to every IC. Usually 0.1µF is a good choice, or even add some 1µF or 10µF caps.\n",
    "\n",
    "<img src=\"./assets/capacitors/decoupling-capacitors.png\"/>"
   ]
  },
  {
   "cell_type": "markdown",
   "metadata": {},
   "source": [
    "### Rectifiers\n",
    "Smooth the rectified AC signal so that it become a DC signal (with a ripple effect) [1]\n",
    "\n",
    "<img src=\"./assets/capacitors/rectifier.png\"/>"
   ]
  },
  {
   "cell_type": "markdown",
   "metadata": {},
   "source": [
    "### Filters\n",
    "> Capacitors block out low frequencies, inductors block out high frequencies.\n",
    "\n",
    "<img src=\"./assets/capacitors/filters.png\"/>"
   ]
  },
  {
   "cell_type": "markdown",
   "metadata": {},
   "source": [
    "---\n",
    "## References\n",
    "1. [Sparkfun Tutorial](https://learn.sparkfun.com/tutorials/capacitors/all) - Sparkfun\n",
    "2. [Capacitors Tutorial](https://www.electronics-tutorials.ws/capacitor/cap_1.html) - Electronics Tutorial"
   ]
  }
 ],
 "metadata": {
  "kernelspec": {
   "display_name": "Python 3",
   "language": "python",
   "name": "python3"
  },
  "language_info": {
   "codemirror_mode": {
    "name": "ipython",
    "version": 3
   },
   "file_extension": ".py",
   "mimetype": "text/x-python",
   "name": "python",
   "nbconvert_exporter": "python",
   "pygments_lexer": "ipython3",
   "version": "3.6.8"
  },
  "toc-autonumbering": true,
  "toc-showmarkdowntxt": true
 },
 "nbformat": 4,
 "nbformat_minor": 2
}
