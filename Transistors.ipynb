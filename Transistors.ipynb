{
 "cells": [
  {
   "cell_type": "markdown",
   "metadata": {},
   "source": [
    "# Transistors"
   ]
  },
  {
   "cell_type": "markdown",
   "metadata": {},
   "source": [
    "Three layer, two junction, three terminal active device. They have two basic functinos:\n",
    "- “switching” (digital electronics);\n",
    "- “amplification” (analogue electronics).\n",
    "\n",
    "They can operate in 3 different regions:\n",
    "1. **active region** --> it operates as an amplifier $I_C = \\beta \\cdot I_B$ (a small base current controls a much larger collector current)\n",
    "2. **saturation** --> it is essentialy a closed switch $I_C = I_{\\text{sat}}$\n",
    "3. **cut-off** --> it is an open switch $I_C = 0$\n",
    "\n",
    "The tree terminals are labelled as Emitter (E), Base (B) and Collector (C).\n",
    "\n",
    "> The principle of operation of the two transistor types PNP and NPN, is exactly the same. The only difference being in their biasing and the polarity of the power supply for each type.\n",
    "\n",
    "<img src=\"./assets/Transistors/bjt.png\" />"
   ]
  },
  {
   "cell_type": "markdown",
   "metadata": {},
   "source": [
    "### BJT Configurations\n",
    "There are three possible ways to connect the transistor within an electronic circuit with one terminal being common to both the input and output."
   ]
  },
  {
   "cell_type": "markdown",
   "metadata": {},
   "source": [
    "#### Common Base Configuration\n",
    "The transistor has **voltage gain** but **no current gain.**"
   ]
  },
  {
   "cell_type": "markdown",
   "metadata": {},
   "source": [
    "#### Common Emitter Configuration\n",
    "The transistor has **both current and voltage gain.**"
   ]
  },
  {
   "cell_type": "markdown",
   "metadata": {},
   "source": [
    "#### Common Collector Configuration\n",
    "The transisotr has **current gain** but **no voltage gain.**"
   ]
  },
  {
   "cell_type": "markdown",
   "metadata": {},
   "source": [
    "---\n",
    "## References\n",
    "1. [Bipolar Transistor Tutorial](https://www.electronics-tutorials.ws/transistor/tran_1.html) -- Electronics Tutorials"
   ]
  },
  {
   "cell_type": "code",
   "execution_count": null,
   "metadata": {},
   "outputs": [],
   "source": []
  }
 ],
 "metadata": {
  "kernelspec": {
   "display_name": "Python 3",
   "language": "python",
   "name": "python3"
  },
  "language_info": {
   "codemirror_mode": {
    "name": "ipython",
    "version": 3
   },
   "file_extension": ".py",
   "mimetype": "text/x-python",
   "name": "python",
   "nbconvert_exporter": "python",
   "pygments_lexer": "ipython3",
   "version": "3.6.8"
  },
  "toc-autonumbering": true
 },
 "nbformat": 4,
 "nbformat_minor": 2
}
