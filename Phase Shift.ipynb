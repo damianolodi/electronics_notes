{
 "cells": [
  {
   "cell_type": "markdown",
   "metadata": {},
   "source": [
    "# Phase Shift\n",
    "* Frequency-dependent phase shift originates with reactive components: capacitors and inductors\n",
    "* **Relative quantity** --> it must be given as a*difference*in phase between two points (usually *output* and *input*)\n",
    "* Capacitors cause a $90°$ lag of voltage behind current, while inductors cause a $90°$ lag of current behind voltage"
   ]
  },
  {
   "cell_type": "markdown",
   "metadata": {},
   "source": [
    "---\n",
    "## Resources\n",
    "1. [Understanding Phase Shift in Analog Circuits](https://www.allaboutcircuits.com/technical-articles/understanding-phase-shift-in-analog-circuits/) -- All About Circuits"
   ]
  }
 ],
 "metadata": {
  "kernelspec": {
   "display_name": "Python 3",
   "language": "python",
   "name": "python3"
  },
  "language_info": {
   "codemirror_mode": {
    "name": "ipython",
    "version": 3
   },
   "file_extension": ".py",
   "mimetype": "text/x-python",
   "name": "python",
   "nbconvert_exporter": "python",
   "pygments_lexer": "ipython3",
   "version": "3.6.8"
  }
 },
 "nbformat": 4,
 "nbformat_minor": 2
}
