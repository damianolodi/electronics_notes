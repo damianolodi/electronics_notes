{
 "cells": [
  {
   "cell_type": "markdown",
   "metadata": {},
   "source": [
    "# ADC"
   ]
  },
  {
   "cell_type": "markdown",
   "metadata": {},
   "source": [
    "---\n",
    "## Fundamentals\n",
    "The accuracy and repetability of the conversion process are determined by static and dynamic specifications, respectively. [2]\n",
    "\n",
    "The **ideal transfer function** of an ADC is given by\n",
    "$$\n",
    "\\text{Code} = V_{\\text{in}} \\cdot \\frac{2^n}{V_{\\text{ref}}}\n",
    "$$\n",
    "where *Code* is the ADC output number and *$n$* is the resolution (n° of bits)."
   ]
  },
  {
   "cell_type": "markdown",
   "metadata": {},
   "source": [
    "### Static performance\n",
    "<img src=\"./assets/ADC/adc-static-performance.png\"/>\n",
    "\n",
    "1. **Offset-voltage error** --> error introduced by an offset voltage on the input pin.\n",
    "$$\n",
    "\\text{Code} = (V_{\\text{in}} - V_{\\text{OS_ADC}}) \\cdot \\frac{2^n}{V_{\\text{ref}}}\n",
    "$$\n",
    "2. **Gain error** --> *difference between the ideal and real slopes, calculated from zero to full scale.* Measured as decimal or percentage.\n",
    "$$\n",
    "\\text{Code} = V_{\\text{in}} \\cdot \\frac{2^n}{V_{\\text{ref}} \\cdot (1 - \\text{GE}_{\\text{ADC}})} \\qquad \\text{where} \\qquad  \\text{GE}_{\\text{ADC}} = \\frac{\\text{Actual Gain} - \\text{Ideal Gain}}{\\text{Actual Gain}}\n",
    "$$\n",
    "3. **Transition noise** --> region of uncertainty generated when the output code change due to a changing input. It has a direct effect on the Signal-to-Noise Ratio (SNR)."
   ]
  },
  {
   "cell_type": "markdown",
   "metadata": {},
   "source": [
    "### Dynamic perfomance\n",
    "\n",
    "<img src=\"./assets/ADC/adc-dynamic-performance.png\"/>\n",
    "\n",
    "1. **Signal-to-Noise Ratio (SNR)** --> ratio between the RMS of the signal power and the RMS of the noise power.\n",
    "\n",
    "2. **Total Harmonic Distortion (THD)** --> quantify the amount of distortion in the system. It is the ratio between the Root Sum Square (RSS) of the powers of the harmonic components (*spurs*) and the input-signal power. \n",
    "\n",
    "3. **Spurious-Free Dynamic Range (SFDR)**\n",
    "\n",
    "4. **Noise-Floor Level**"
   ]
  },
  {
   "cell_type": "markdown",
   "metadata": {},
   "source": [
    "---\n",
    "## ADC Types\n",
    "Three different input structure types are possible:\n",
    "1. single-ended\n",
    "2. pseudo-differential\n",
    "3. fully-differential"
   ]
  },
  {
   "cell_type": "markdown",
   "metadata": {},
   "source": [
    "### Single-Ended ADC\n",
    "\n",
    "- Each channel uses a single input pin.\n",
    "- All signals are referenced to a common ground at the ADC. The analog ground pin is shared between all inputs for multi-channel systems. \n",
    "- **DC offset and/or noise in the signal path will decrease the dynamic range of the input signal.** Single-ended inputs are more susceptible to coupled-noise and DC offsets. However, signal conditioning circuitry can reduce these effects\n",
    "\n",
    "> **Ideal if the signal source and ADC are close to each other** (i.e., on the same board so that signal traces can be kept as short as possible). "
   ]
  },
  {
   "cell_type": "markdown",
   "metadata": {},
   "source": [
    "### Fully-Differential Input\n",
    "\n",
    "- Useful for maximum noise rejection -> \n",
    "- **Increased dynamic range** -> in theory, given the same voltage range, the fully-differential inputs will have double the dynamic range (because the two differential inputs can be 180° out of phase). [1]\n",
    "\n",
    "> **Common-mode voltage** --> common voltage which appear with the same magnitude and phase on both differential inputs.\n",
    "\n",
    "> **Common-mode rejection ratio (CMRR)** --> describes the ADCs ability to reject a common-mode (typically DC) voltage. A DC common-mode voltage appearing across an ADC input has the same effect as a DC input offset. It is defined as the *ratio between the differential voltage gain and the common-mode voltage gain.* Often expressed in log scale.\n",
    "$$\n",
    "\\text{CMRR} = \\frac{G_{\\text{diff}}}{G_{\\text{CM}}}\n",
    "$$\n",
    "It is **frequency dependant**: at higher common-mode voltage frequencies $\\omega$, CMRR decrease because the phase matching between the two input signals becomes more difficult to sustain.\n",
    "\n",
    "*Normally, the sensor signal and ground wire are in close proximity physically and will couple in common-mode noise.* The largest source of common-mode noise is often 50/60Hz noise from power lines. Power supply ripple, EMF, RF or high-frequency switching noise can also be sources of common-mode noise.\n",
    "\n"
   ]
  },
  {
   "cell_type": "markdown",
   "metadata": {},
   "source": [
    "---\n",
    "## References\n",
    "1. [Understanding Single-Ended, Pseudo-Differential and Fully-Differential ADC Inputs](https://www.maximintegrated.com/en/app-notes/index.mvp/id/1108) - Maxim Integrated\n",
    "2. [How the voltage reference affects ADC performance, part 1](./assets/ADC/ADC-voltage-reference-performance-1.pdf) - Texas Instruments Analog Applicatinos Journal\n",
    "3. [How the voltage reference affects ADC performance, part 2](./assets/ADC/ADC-voltage-reference-performance-2.pdf) - Texas Instruments Analog Applicatinos Journal\n",
    "4. [How the voltage reference affects ADC performance, part 3](./assets/ADC/ADC-voltage-reference-performance-3.pdf) - Texas Instruments Analog Applicatinos Journal"
   ]
  },
  {
   "cell_type": "code",
   "execution_count": null,
   "metadata": {},
   "outputs": [],
   "source": []
  }
 ],
 "metadata": {
  "kernelspec": {
   "display_name": "Python 3",
   "language": "python",
   "name": "python3"
  },
  "language_info": {
   "codemirror_mode": {
    "name": "ipython",
    "version": 3
   },
   "file_extension": ".py",
   "mimetype": "text/x-python",
   "name": "python",
   "nbconvert_exporter": "python",
   "pygments_lexer": "ipython3",
   "version": "3.6.8"
  },
  "toc-autonumbering": true
 },
 "nbformat": 4,
 "nbformat_minor": 2
}
