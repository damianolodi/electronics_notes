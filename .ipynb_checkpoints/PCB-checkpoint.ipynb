{
 "cells": [
  {
   "cell_type": "markdown",
   "metadata": {},
   "source": [
    "# Printed Circuit Board (PCB)"
   ]
  },
  {
   "cell_type": "markdown",
   "metadata": {},
   "source": [
    "---\n",
    "## Layers\n",
    "Typically, a circuit board will have two sides, which means there will be a *top side* and *bottom side*. *Each side can have all four of these layers*, but the bottom often excludes a silkscreen layer since it is often unnecessary.\n",
    "\n",
    "<img src=\"./assets/pcb/layers.png\"/>\n",
    "\n",
    "* **Substrate** --> provides rigidity, and has good heat resistance properties. Mos common thickness are 0.8mm and 1.6mm\n",
    "<img src=\"./assets/pcb/substrate.png\"/>\n",
    "\n",
    "* **Copper** --> it is the layer that conducts electricity and the circuit’s components are soldered to\n",
    "<img src=\"./assets/pcb/copper.png\"/>\n",
    "\n",
    "* **Soldermask** --> it is overlaid onto the copper layer to insulate the copper traces from accidental contact with other metal, solder, or conductive bits. It helps the user to solder to the correct places and prevent solder jumpers.\n",
    "<img src=\"./assets/pcb/soldermask.png\"/>\n",
    "\n",
    "* **Silkscreen** --> it adds letters, numbers, and symbols to the PCB that allow for easier assembly and indicators for humans to better understand the board.\n",
    "<img src=\"./assets/pcb/silkscreen.png\"/>\n"
   ]
  },
  {
   "cell_type": "markdown",
   "metadata": {},
   "source": [
    "---\n",
    "## Materials\n",
    "### FR4\n",
    "Glass-reinforced epoxy laminate material. FR-4 is a composite material composed of woven **fiberglass cloth** with an **epoxy resin binder** that is flame resistant (*self-extinguishing*).\n",
    "* FR stands for **flame retardant**\n",
    "It is the standard for PCB materials. A thin layer of copper foil is laminated to one or both sides of an FR-4 glass epoxy panel.\n",
    "\n",
    "### Copper\n",
    "On **double sided** PCBs, copper is applied to both sides of the substrate, but it can be applied also to one side only to decrease costs.\n",
    "In complex products there can be a variable number of copper layers.\n",
    "::The copper thickness can vary and is specified by weight, in **ounces per square foot**.:: The vast majority of PCBs have 1 ounce of copper per square foot.\n",
    "* *Each ounce per square translates to about 35 micrometers of thickness of copper.*"
   ]
  },
  {
   "cell_type": "markdown",
   "metadata": {},
   "source": [
    "---\n",
    "## Dictionary\n",
    "* **Annular ring** --> the ring of copper around a plated through hole in a PCB\n",
    "<img src=\"./assets/pcb/annular-ring.png\"/>\n",
    "* **DRC (Design Rule Check)** --> a software check of your design to make sure the design does not contain errors (such as traces that incorrectly touch, traces too skinny, or drill holes that are too small)\n",
    "* **Drill hit** --> places on a design where a hole should be drilled, or where they actually were drilled on the board. Inaccurate drill hits caused by dull bits are a common manufacturing issue.\n",
    "<img src=\"./assets/pcb/drill-hit.png\"/>\n",
    "* **Finger** --> exposed metal pads along the edge of a board, used to create a connection between two circuit boards\n",
    "* **Mouse bites** --> an alternative to v-score for separating boards from panels. A number of drill hits are clustered close together, creating a weak spot where the board can be broken easily after the fact\n",
    "<img src=\"./assets/pcb/mouse-bites.png\"/>\n",
    "* **Pad** --> a portion of exposed metal on the surface of a board to which a component is soldered\n",
    "* **Panel** --> a larger circuit board composed of many smaller boards which will be broken apart before use.\n",
    "* **Plane** --> a continuous block of copper on a circuit board, define by borders rather than by a path. Also commonly called a “pour”\n",
    "<img src=\"./assets/pcb/plane.png\"/>\n",
    "* **Plated through hole** --> a hole on a board which has an annular ring and which is plated all the way through the board. May be a connection point for a through hole component, a via to pass a signal through, or a mounting hole\n",
    "* **Pogo pin** --> spring-loaded contact used to make a temporary connection for test or programming purposes\n",
    "* **Reflow** --> melting the solder to create joints between pads and component leads\n",
    "* **Slot** --> any hole in a board which is not round. Slots may or may not be plated. *Slots sometimes add cost to the board because they require extra cut-out time*\n",
    "* **Thermal** --> a small trace used to connect a pad to a plane. If a pad is not thermally relieved, it becomes difficult to get the pad to a high enough temperature to create a good solder joint. An improperly thermally relieved pad will feel “sticky” when you attempt to solder to it, and will take an abnormally long time to reflow\n",
    "<img src=\"./assets/pcb/thermal.png\"/>\n",
    "*On the left, a solder pad with two small traces (thermals) connecting the pin to the ground plane. On the right, a via with no thermals connecting it completely to the ground plane.*\n",
    "* **Trace** --> a continuous path of copper on a circuit board\n",
    "* **V-score** --> a partial cut through a board, allowing the board to be easily snapped along a line\n",
    "* **Via** --> a hole in a board used to pass a signal from one layer to another. *Tented*vias are covered by solder mask to protect them from being soldered to"
   ]
  },
  {
   "cell_type": "markdown",
   "metadata": {},
   "source": [
    "---\n",
    "## Design Guidelines\n",
    "\n",
    "* **Minimize the number of assembly steps** placing all SMT components on the same side of the board, and all PTH components on the top side of the board.\n",
    "* When using both SMT and PTH technology on the same board, cost might increase beacause of extra steps required.\n",
    "* **Setting NET widths:** recommended 0.010” width for low current analog and digital signals. Increase when more than 0.3A are passing through. [4]\n",
    "> **Resources:** [Trace Width Calculator](https://www.4pcb.com/trace-width-calculator.html) -- [Trace Width Guidelines](https://www.smps.us/pcb-calculator.html)\n",
    "* **Thermal reliefs:** always use a thermal relief pattern for any via or hole that is connected to a ground or power plane. Moreove, it’s always recommended to utilize thermal reliefs on PTH components to make the soldering process as easy as possible by slowing the rate of heat sinking through the component plates."
   ]
  },
  {
   "cell_type": "markdown",
   "metadata": {},
   "source": [
    "---\n",
    "## References\n",
    "\n",
    "1. [FR4](https://en.wikipedia.org/wiki/FR-4) -- Wikipedia\n",
    "2. [PCB Basics](https://learn.sparkfun.com/tutorials/pcb-basics/all) -- Sparkfun\n",
    "3. [Circuit Board Design Class](https://www.instructables.com/class/Circuit-Board-Design-Class/) -- Instructables\n",
    "4. [Top PCB Design Guidelines](https://resources.altium.com/pcb-design-blog/top-pcb-design-guidelines-every-pcb-designer-needs-to-know) -- Altium\n",
    "5. [How to Design a PCB Layout](http://www.circuitbasics.com/make-custom-pcb/) -- CircuitBasics\n",
    "6. [Circuit Board Layout Techniques](./assets/pcb/circuit-board-layout-techniques-ti.pdf) -- Texas Instruments"
   ]
  },
  {
   "cell_type": "code",
   "execution_count": null,
   "metadata": {},
   "outputs": [],
   "source": []
  }
 ],
 "metadata": {
  "kernelspec": {
   "display_name": "Python 3",
   "language": "python",
   "name": "python3"
  },
  "language_info": {
   "codemirror_mode": {
    "name": "ipython",
    "version": 3
   },
   "file_extension": ".py",
   "mimetype": "text/x-python",
   "name": "python",
   "nbconvert_exporter": "python",
   "pygments_lexer": "ipython3",
   "version": "3.6.8"
  },
  "toc-autonumbering": true,
  "toc-showmarkdowntxt": false
 },
 "nbformat": 4,
 "nbformat_minor": 2
}
