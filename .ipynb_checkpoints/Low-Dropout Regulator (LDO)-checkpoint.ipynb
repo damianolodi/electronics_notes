{
 "cells": [
  {
   "cell_type": "markdown",
   "metadata": {},
   "source": [
    "# Low-Dropout Regulator (LDO)"
   ]
  },
  {
   "cell_type": "markdown",
   "metadata": {},
   "source": [
    "---\n",
    "## Dropout\n",
    "Linear voltage regulator that can regulate even when the supply is close to the output. \n",
    "\n",
    "<img src=\"./assets/ldo/ldo-schematic.png\">\n",
    "\n",
    "_The output voltage is determined by the input voltage and the dropout._ --> dropout dissipated as heat from the component.\n",
    "\n",
    ">In general the **voltage dropout** $V_{DO}$ of the component is the **minimum voltage difference** between $V_{IN}$ and $V_{OUT}$ needed by the device to work. --> one should have $V_{IN} \\geq V_{OUT} + V_{DO}$ **otherwise** $V_{OUT} = V_{IN} - V_{DO}$\n",
    "\n",
    "<img src=\"./assets/ldo/variables.png\">\n",
    "\n",
    "*Variables affecting $V_{DO}$*"
   ]
  },
  {
   "cell_type": "markdown",
   "metadata": {},
   "source": [
    "---\n",
    "## Output capacitor"
   ]
  },
  {
   "cell_type": "markdown",
   "metadata": {},
   "source": [
    "---\n",
    "## References\n",
    "1. [LDO basics: Dropout voltage](https://training.ti.com/ldo-basics-dropout-voltage) -- TI Video Tutorial\n",
    "2. [Understanding the Terms and Definitions of LDO Voltage Regulators](http://www.ti.com/lit/an/slva079/slva079.pdf) -- TI Documents"
   ]
  },
  {
   "cell_type": "code",
   "execution_count": null,
   "metadata": {},
   "outputs": [],
   "source": []
  }
 ],
 "metadata": {
  "kernelspec": {
   "display_name": "Python 3",
   "language": "python",
   "name": "python3"
  },
  "language_info": {
   "codemirror_mode": {
    "name": "ipython",
    "version": 3
   },
   "file_extension": ".py",
   "mimetype": "text/x-python",
   "name": "python",
   "nbconvert_exporter": "python",
   "pygments_lexer": "ipython3",
   "version": "3.6.8"
  }
 },
 "nbformat": 4,
 "nbformat_minor": 2
}
