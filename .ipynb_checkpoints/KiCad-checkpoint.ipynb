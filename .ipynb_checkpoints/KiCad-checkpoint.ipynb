{
 "cells": [
  {
   "cell_type": "markdown",
   "metadata": {},
   "source": [
    "# KiCad"
   ]
  },
  {
   "cell_type": "markdown",
   "metadata": {},
   "source": [
    "---\n",
    "## Workflow\n",
    "Two main tasks:\n",
    "* drawing the schematic;\n",
    "* laying out the board.\n",
    "\n",
    "<img src=\"./assets/kicad/kicad-flowchart.png\">\n",
    "\n",
    "[Quicklib](http://kicad.rohrbacher.net/quicklib.php) is a tool that allows one to quickly create KiCad library components."
   ]
  },
  {
   "cell_type": "markdown",
   "metadata": {},
   "source": [
    "---\n",
    "## Keyboard Shortcuts/Hotkeys\n",
    "- *a* --> add component to the schematic\n",
    "- *r* --> rotate the component\n",
    "- *m* --> move the component\n",
    "- *g* --> drag the component (maintain connections)\n",
    "- *x | y* --> flip along x or y axis\n",
    "- *e* --> edit components general properties\n",
    "- *v* --> edit components values\n",
    "- *p* --> add power port to the scheme (power/GND)\n",
    "- *l* --> place label\n",
    "- *j* --> place junction\n",
    "- *c* --> copy component"
   ]
  },
  {
   "cell_type": "markdown",
   "metadata": {},
   "source": [
    "---\n",
    "## Eeschema\n",
    "1. *Power ports* are components, but KiCad knows that power come from there\n",
    "- **Connect two components** by assigning the same label to pieces of wire exiting from them\n",
    "- Mark the *unconnected* pins with the proper tool (*Place no connection flag*)\n",
    "- Before annotating, assign *power flags* to power pins VCC and GND (`PWR_FLAG` and `GNDPWR` in the components library)\n",
    "    - If connecting VCC/GND to a pin through a passive, KiCad doesn’t know what the component is so one needs to place another power flag after the passive\n",
    "- When the schematic is finished, *annotate the circuit* (assigned the numbers to the components on the schematic)\n",
    "- Then, run an *electrical check* (bug icon)\n",
    "- Generate a *netlist* and save it (this file contains all the components and connections between them)\n",
    "- Now *assign footprints* using Cvpcb\n",
    "    - Center --> components on the schematic\n",
    "    - Left --> footprints library\n",
    "    - Right --> Elements in the selected library\n",
    "    - for each component **select a footprint with double-click**"
   ]
  },
  {
   "cell_type": "markdown",
   "metadata": {},
   "source": [
    "---\n",
    "## Pcbnew\n",
    "1. Click *Run Pcbnew* in Eeschema\n",
    "2. Import the *netlist* generated before\n",
    "3. **Draw the board**\n",
    "    - select the *edge.cuts* layer on the left\n",
    "    - define a proper grid and select it\n",
    "    - draw the edges with the line tools\n",
    "    - re-select a finer grid and place the board in the sheet\n",
    "4. Move components on the board\n",
    "    - *f* --> flip the component (it goes to the back of the board)\n",
    "5. Wire the components\n",
    "    - remember to select the layers *F.Cu* or *B.Cu* while wiring\n",
    "6. Sometimes it is necessary to **edit a footprint**\n",
    "    - select the component and press *e* (goes to footprint properties) and select `edit footprint`\n",
    "    - create a new footprint library (extension *.pretty*)\n",
    "    - modify the footprint\n",
    "    - click *file>save as* and save in the created footprint library"
   ]
  },
  {
   "cell_type": "markdown",
   "metadata": {},
   "source": [
    "---\n",
    "## Create a New Schematic Symbol\n",
    "1. In the project folder, create a new folder called *library*\n",
    "2. Select the button *Library Editor* in Eeschema (or in KiCad), select *File>Create New Library* and create the new library\n",
    "3. Now select *File>Create New Component*\n",
    "4. Insert the component name and the other fields\n",
    "    - Place the *Default Reference Designator* value (which is the name of the  reference name of component on the schematic)\n",
    "5. Now the component is just a text. Select *Add Pins* in the right toolbar. Left click in the centre of the part editor sheet to place the pin, just below the component label\n",
    "    - Set *pin name*, *pin number*, *orientation*, *electrical type* (important for software rule checking) and all the other parameters\n",
    "    - Place horizontal bar over *pin name* using ~ before the name (`ALT+126` on windows)\n",
    "6. Draw the contour of the component using the *Add Rectangle* icon\n",
    "7. Go to *Preferences>Select color scheme* to fill the component with a colour if needed\n",
    "8. Save the component. At the end you should obtain something like that\n",
    "\n",
    "<img src=\"./assets/kicad/schematic-symbol.png\">\n"
   ]
  },
  {
   "cell_type": "markdown",
   "metadata": {},
   "source": [
    "---\n",
    "## Dictionary\n",
    "1. **component** --> refers to any part used in a circuit\n",
    "- **symbol** --> representation of a component on a schematic\n",
    "- **package** --> 3-dimensional shape of the component, it also indicates how it mounts to the circuit board (through hole, surface mount,…)\n",
    "- **footprint** --> 2-dimensional layout of the package atop the surface of the board"
   ]
  },
  {
   "cell_type": "markdown",
   "metadata": {},
   "source": [
    "---\n",
    "## References\n",
    "1. [Getting Started in KiCad](http://docs.kicad-pcb.org/5.1.2/en/getting_started_in_kicad/getting_started_in_kicad.html#kicad-work-flow)\n",
    "2. [KiCAD Quick-Start Tutorial](https://youtu.be/zK3rDhJqMu0) — YouTube\n",
    "3. [Kicad Tutorial Series by Ashley Mills](https://www.youtube.com/playlist?list=PLCNJWVn9MJuORLQ3ds_U3D7RILfE4zdoL) — YouTube"
   ]
  }
 ],
 "metadata": {
  "kernelspec": {
   "display_name": "Python 3",
   "language": "python",
   "name": "python3"
  },
  "language_info": {
   "codemirror_mode": {
    "name": "ipython",
    "version": 3
   },
   "file_extension": ".py",
   "mimetype": "text/x-python",
   "name": "python",
   "nbconvert_exporter": "python",
   "pygments_lexer": "ipython3",
   "version": "3.6.8"
  }
 },
 "nbformat": 4,
 "nbformat_minor": 2
}
