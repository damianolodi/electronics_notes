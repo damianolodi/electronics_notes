{
 "cells": [
  {
   "cell_type": "markdown",
   "metadata": {},
   "source": [
    "# Optocouplers"
   ]
  },
  {
   "cell_type": "markdown",
   "metadata": {},
   "source": [
    "---\n",
    "## General Characteristics\n",
    "It provides electrical isolation between an input source and an output load using light.\n",
    "It consists of an LED that produces infra-red light and a semiconductor photo-sensitive device that is used to detect the emitted infra-red beam.\n",
    "\n",
    "<img src=\"./assets/optocoupler/schematic.png\">\n",
    "\n",
    "Since there is no direct electrical connection between the input and output of an optocoupler, electrical isolation up to $10kV$ is achieved."
   ]
  },
  {
   "cell_type": "markdown",
   "metadata": {},
   "source": [
    "---\n",
    "## Optocoupler Types\n",
    "\n",
    "<img src=\"./assets/optocoupler/types-1.png\">\n",
    "\n",
    "* Photo-transistor and photo-darlington --> mainly for use in DC circuits\n",
    "* Photo-SCR and photo-triad --> AC powered circuits\n",
    "\n",
    "<img src=\"./assets/optocoupler/types.png\">\n",
    "\n",
    "* **Slot Optocoupler**\n",
    "* **Reflective Optocoupler**"
   ]
  },
  {
   "cell_type": "markdown",
   "metadata": {},
   "source": [
    "---\n",
    "## Applications"
   ]
  },
  {
   "cell_type": "markdown",
   "metadata": {},
   "source": [
    "### Optotransistor DC Switch\n",
    "\n",
    "<img src=\"./assets/optocoupler/dc-switch.png\">\n",
    "\n",
    "The externally connected $270k\\Omega$ resistor is used to control the sensitivity of the photo-transistors base region.\n",
    "The capacitor stops any unwanted spikes or transients from false triggering the opts-transistors base."
   ]
  },
  {
   "cell_type": "markdown",
   "metadata": {},
   "source": [
    "---\n",
    "## References\n",
    "1.  [Optocoupler Tutorial](https://www.electronics-tutorials.ws/blog/optocoupler.html) -- Electronics Tutorial\n",
    "2.  [Optocoupler Circuits](https://www.nutsvolts.com/magazine/article/optocoupler-circuits) -- Nuts and Volts"
   ]
  },
  {
   "cell_type": "code",
   "execution_count": null,
   "metadata": {},
   "outputs": [],
   "source": []
  }
 ],
 "metadata": {
  "kernelspec": {
   "display_name": "Python 3",
   "language": "python",
   "name": "python3"
  },
  "language_info": {
   "codemirror_mode": {
    "name": "ipython",
    "version": 3
   },
   "file_extension": ".py",
   "mimetype": "text/x-python",
   "name": "python",
   "nbconvert_exporter": "python",
   "pygments_lexer": "ipython3",
   "version": "3.6.8"
  }
 },
 "nbformat": 4,
 "nbformat_minor": 2
}
